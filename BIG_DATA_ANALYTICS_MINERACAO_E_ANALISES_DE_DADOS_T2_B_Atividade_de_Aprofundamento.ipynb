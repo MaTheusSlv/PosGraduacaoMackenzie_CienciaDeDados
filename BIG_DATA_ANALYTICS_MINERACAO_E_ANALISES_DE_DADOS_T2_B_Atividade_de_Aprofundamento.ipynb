{
  "nbformat": 4,
  "nbformat_minor": 0,
  "metadata": {
    "colab": {
      "provenance": [],
      "include_colab_link": true
    },
    "kernelspec": {
      "name": "python3",
      "display_name": "Python 3"
    }
  },
  "cells": [
    {
      "cell_type": "markdown",
      "metadata": {
        "id": "view-in-github",
        "colab_type": "text"
      },
      "source": [
        "<a href=\"https://colab.research.google.com/github/MaTheusSlv/PosGraduacaoMackenzie_CienciaDeDados/blob/main/BIG_DATA_ANALYTICS_MINERACAO_E_ANALISES_DE_DADOS_T2_B_Atividade_de_Aprofundamento.ipynb\" target=\"_parent\"><img src=\"https://colab.research.google.com/assets/colab-badge.svg\" alt=\"Open In Colab\"/></a>"
      ]
    },
    {
      "cell_type": "markdown",
      "metadata": {
        "id": "J3LMBfpeHTwb"
      },
      "source": [
        "<head>\n",
        "  <meta name=\"author\" content=\"Rogério de Oliveira\">\n",
        "  <meta institution=\"author\" content=\"Universidade Presbiteriana Mackenzie\">\n",
        "</head>\n",
        "\n",
        "<img src=\"http://meusite.mackenzie.br/rogerio/mackenzie_logo/UPM.2_horizontal_vermelho.jpg\" width=300, align=\"right\">\n",
        "<!-- <h1 align=left><font size = 6, style=\"color:rgb(200,0,0)\"> optional title </font></h1> -->\n"
      ]
    },
    {
      "cell_type": "markdown",
      "metadata": {
        "id": "zQX8WQPeHTwc"
      },
      "source": [
        "# **Tarefa de Aprofundamento 2**\n",
        "## Discussão do CASO: Estimando o Preço de Imóveis em São Paulo\n",
        "---\n",
        "\n",
        "<br>\n",
        "<br>\n",
        "<br>\n",
        "\n",
        "Com base na atividade *Tarefa de Aprofundamento 1*, **Pesquise e Discuta apenas uma** das perguntas a seguir."
      ]
    },
    {
      "cell_type": "markdown",
      "metadata": {
        "id": "nGZH-j05q8WZ"
      },
      "source": [
        "### 1. Qual a consequencia prática da multicolinearidade no *hot encode* dos dados? Por que?"
      ]
    },
    {
      "cell_type": "markdown",
      "metadata": {
        "id": "Oar--2gn9EJ0"
      },
      "source": [
        "*Sua resposta aqui em 1 (um) parágrafo.*"
      ]
    },
    {
      "cell_type": "markdown",
      "metadata": {
        "id": "p32U1tt_9XBd"
      },
      "source": [
        "### 2. Na atividade, você provavelmente selecionou, dentre os dois modelos, o que apresentava `rsquared` **menor** (não o `rsquared_adj`!) e, mesmo assim, esse é um melhor modelo. Por quê? Justifique."
      ]
    },
    {
      "cell_type": "markdown",
      "metadata": {
        "id": "-tdb6x3s9XBd"
      },
      "source": [
        "Isso ocorre porque o R² é uma métrica que avalia a proporção da variabilidade da variável independente da regressão, já o R² Ajustado tem a mesma característica porém acaba diminuindo o seu valor quando variáveis independentes sem relevância para o modelo são utilizadas, isso faz com que possamos ter um modelo de R² menor do que o R² Ajustado, pois o primeiro visa as variáveis do modelo como um todo, considerando a utilidade da variável na composição do modelo, enquanto que o R² Ajustado procura aumentar a pontuação do modelo que melhor atender o conceito da parcimônia."
      ]
    },
    {
      "cell_type": "markdown",
      "metadata": {
        "id": "xR8J3aMB-TjC"
      },
      "source": [
        "## Referências"
      ]
    },
    {
      "cell_type": "markdown",
      "metadata": {
        "id": "vxyPgZ60-TjC"
      },
      "source": [
        "\n",
        "\n",
        "*   Apostila MINERAÇÃO E ANÁLISE DE DADOS do Mackenzie\n",
        "*   https://www.blog.psicometriaonline.com.br/entenda-o-que-e-o-coeficiente-de-determinacao-na-regressao-linear/#:~:text=Qual%20a%20diferen%C3%A7a%20entre%20R,modelo%20por%20incluir%20vari%C3%A1veis%20irrelevantes.\n",
        "*   https://ilumeo.com.br/categorias/2021-08-17-parcimonia-e-o-segredo-de-bons-modelos-de-data-science/\n",
        "\n"
      ]
    }
  ]
}