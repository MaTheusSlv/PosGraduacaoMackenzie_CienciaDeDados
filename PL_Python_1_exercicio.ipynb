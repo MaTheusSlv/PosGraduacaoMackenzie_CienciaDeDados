{
  "nbformat": 4,
  "nbformat_minor": 0,
  "metadata": {
    "colab": {
      "provenance": [],
      "include_colab_link": true
    },
    "kernelspec": {
      "name": "python3",
      "display_name": "Python 3"
    },
    "language_info": {
      "name": "python"
    }
  },
  "cells": [
    {
      "cell_type": "markdown",
      "metadata": {
        "id": "view-in-github",
        "colab_type": "text"
      },
      "source": [
        "<a href=\"https://colab.research.google.com/github/MaTheusSlv/PosGraduacaoMackenzie_CienciaDeDados/blob/main/PL_Python_1_exercicio.ipynb\" target=\"_parent\"><img src=\"https://colab.research.google.com/assets/colab-badge.svg\" alt=\"Open In Colab\"/></a>"
      ]
    },
    {
      "cell_type": "markdown",
      "metadata": {
        "id": "pqEhMdFQO3A-"
      },
      "source": [
        "<head>\n",
        "  <meta name=\"author\" content=\"Rogério de Oliveira\">\n",
        "  <meta institution=\"author\" content=\"Universidade Presbiteriana Mackenzie\">\n",
        "</head>\n",
        "\n",
        "<img src=\"http://meusite.mackenzie.br/rogerio/mackenzie_logo/UPM.2_horizontal_vermelho.jpg\" width=300, align=\"right\">\n",
        "\n",
        "<h1 align=left><font size = 8, style=\"color:rgb(200,0,0)\"><b>Ciência de Dados </b></font></h1>\n",
        "<h1 align=left><font size = 5, style=\"color:rgb(0,0,0)\"><b>Paradigmas de Linguagens de\n",
        "Programação para Ciência de Dados</b></font></h1>\n",
        "\n",
        "# 1 Introdução à Programação Python\n",
        "Professores: *Diego Nogare* & *Rogério de Oliveira*\n",
        "\n",
        "<br>\n",
        "<br>\n",
        "\n",
        "---\n"
      ]
    },
    {
      "cell_type": "markdown",
      "metadata": {
        "id": "42yF1G-yHu98"
      },
      "source": [
        "# Exercícios"
      ]
    },
    {
      "cell_type": "markdown",
      "metadata": {
        "id": "BDm3FTRtWXCY"
      },
      "source": [
        "Em todos os exercícios execute o código abaixo como a primeira instrução e uma única vez para gerar os valores de `letras` e `lista`.\n",
        "\n",
        "Todos exercícios possuem várias soluções possíveis, mas não se preocupe com isso. A melhor solução é primeiro, a que funciona para você!"
      ]
    },
    {
      "cell_type": "code",
      "metadata": {
        "colab": {
          "base_uri": "https://localhost:8080/"
        },
        "id": "xBjopVrbVgb5",
        "outputId": "8e54120a-af12-440b-851a-42cbc436cc97"
      },
      "source": [
        "import random; from random import choices; import string; random.seed(1234)\n",
        "import numpy as np\n",
        "letras = choices(string.ascii_lowercase,k=100)\n",
        "lista = random.sample(range(1, 10000), 1000)\n",
        "print(np.array(lista).sum() == 5244799) # precisa retornar True!"
      ],
      "execution_count": null,
      "outputs": [
        {
          "output_type": "stream",
          "name": "stdout",
          "text": [
            "True\n"
          ]
        }
      ]
    },
    {
      "cell_type": "markdown",
      "metadata": {
        "id": "XEngnerfXmKX"
      },
      "source": [
        "1. Dos valores [9887, 3233, 813] quais estão presentes em `lista` e, se presentes, qual o seu índice?"
      ]
    },
    {
      "cell_type": "code",
      "metadata": {
        "id": "8KlbNKnHR6VZ",
        "colab": {
          "base_uri": "https://localhost:8080/"
        },
        "outputId": "3d7f4abd-0201-4c89-825e-514afc7341e5"
      },
      "source": [
        "valor = [9887, 3233, 813] # valores a procurar\n",
        "\n",
        "for i in valor: # percorre a lista de valores a procurar\n",
        "  if i in lista: # verifica se o valor está na lista\n",
        "    index= lista.index(i) # se está, guarda o index\n",
        "    print(f'O index de {i} é [{index}]') # e imprime\n",
        "  else:\n",
        "    print(f'O valor {i} não está na lista') # do contrário, informar que não está"
      ],
      "execution_count": null,
      "outputs": [
        {
          "output_type": "stream",
          "name": "stdout",
          "text": [
            "O index de 9887 é [877]\n",
            "O index de 3233 é [680]\n",
            "O valor 813 não está na lista\n"
          ]
        }
      ]
    },
    {
      "cell_type": "markdown",
      "metadata": {
        "id": "95H7DlB_YARA"
      },
      "source": [
        "2. Quais os dois primeiros valores maiores que 2046 em `lista`?"
      ]
    },
    {
      "cell_type": "code",
      "source": [
        "numeros= [] # lista de números que satifaz a condição\n",
        "\n",
        "for i in lista: # percorre a lista\n",
        "  if i > 2046: # verifica se o número é maior que 2046\n",
        "    numeros.append(i) # se for, adiciona na lista \"numeros\"\n",
        "\n",
        "numeros.sort() # ordena a lista em ordem crescente\n",
        "\n",
        "print(f'O dois primeiros números maiores que 2046 na lista são {numeros[0:2]}') # traz os 2 primeiros números da lista"
      ],
      "metadata": {
        "colab": {
          "base_uri": "https://localhost:8080/"
        },
        "id": "CehP0EGyIe2j",
        "outputId": "d0eef24a-be9b-42c6-f058-b93b0bbc12b7"
      },
      "execution_count": null,
      "outputs": [
        {
          "output_type": "stream",
          "name": "stdout",
          "text": [
            "O dois primeiros números maiores que 2046 na lista são [2055, 2064]\n"
          ]
        }
      ]
    },
    {
      "cell_type": "markdown",
      "metadata": {
        "id": "_i-bSWW9YNa_"
      },
      "source": [
        "3. Quais os valores mínimo e máximo em `lista`?"
      ]
    },
    {
      "cell_type": "code",
      "metadata": {
        "id": "8-6xfJ92agcF",
        "colab": {
          "base_uri": "https://localhost:8080/"
        },
        "outputId": "53420858-32f0-49ca-f128-d5ee6a946889"
      },
      "source": [
        "print(f'O valor mínimo da lista é {lista.min()}') # traz o menor número da lista\n",
        "print(f'O valor máximo da lista é {lista.max()}') # traz o maior número da lista"
      ],
      "execution_count": null,
      "outputs": [
        {
          "output_type": "stream",
          "name": "stdout",
          "text": [
            "O valor mínimo da lista é 4\n",
            "O valor máximo da lista é 9998\n"
          ]
        }
      ]
    },
    {
      "cell_type": "markdown",
      "metadata": {
        "id": "yJOItauOYa-g"
      },
      "source": [
        "4. Quais as 4 letras que mais aparecem em `letras`?\n",
        "\n",
        "<small> ( Existe várias formas de fazer isso, mas fica aqui a sugestão: se você implementar um dicionário *letra:quantidade* poderá empregar a mesma solução na tarefa de aprofundamento! ) </small>"
      ]
    },
    {
      "cell_type": "code",
      "metadata": {
        "id": "48y8A-6Cag6I",
        "colab": {
          "base_uri": "https://localhost:8080/"
        },
        "outputId": "ab6e767f-08ca-43a4-937c-6f20a9a5d4c5"
      },
      "source": [
        "letra_dict={} # cria um dicionário pra guardar letra:quantidade\n",
        "quantidade=[] # lista de quantidades (lista de letras está lá em cima)\n",
        "\n",
        "for i in letras: # percorre a lista de letras\n",
        "  qtd= letras.count(i) # guarda a contagem de vezes que aquela letra aparece\n",
        "  quantidade.append(qtd) # adiciona na lista de quantidades a quantidade contada\n",
        "\n",
        "for i in range(len(letras)): # percorre a lista de letras novamente\n",
        "  if letras[i] not in letra_dict.keys(): # confere se a letra já não é uma key do dicionário\n",
        "    letra_dict[letras[i]] = quantidade[i] # se não for, adiciona a letra como KEY e a quantidade como QUANTIDADE no dicionário\n",
        "\n",
        "dict_ordenado= sorted(letra_dict.items(), key=lambda x:x[1], reverse= True)\n",
        "# guarda os itens do dicionário ordenando por quantidade de maior para menor\n",
        "\n",
        "print(f'As 4 letras que mais aparecem na lista são {dict_ordenado[0:4]}') # traz as 4 letras do topo da lista"
      ],
      "execution_count": null,
      "outputs": [
        {
          "output_type": "stream",
          "name": "stdout",
          "text": [
            "As 4 letras que mais aparecem na lista são [('e', 8), ('v', 8), ('m', 7), ('a', 6)]\n"
          ]
        }
      ]
    },
    {
      "cell_type": "markdown",
      "metadata": {
        "id": "cdADnpZFZKxg"
      },
      "source": [
        "5. Qual a soma dos valores pares de `lista`?"
      ]
    },
    {
      "cell_type": "code",
      "metadata": {
        "id": "LnOxIdHWahaI",
        "colab": {
          "base_uri": "https://localhost:8080/"
        },
        "outputId": "1652dc7e-caf9-44db-d88c-d2dcd4ad75a5"
      },
      "source": [
        "numeros_pares= [] # lista de numeros pares\n",
        "\n",
        "for i in lista: # percorre a lista de números\n",
        "  if i % 2 == 0: # verifica se o número é par\n",
        "   numeros_pares.append(i) # se for, adiciona na lista de numeros_pares\n",
        "\n",
        "resultado= np.array(numeros_pares) # converte a lista em array NumPy\n",
        "\n",
        "print(f'O resultado da soma dos valores pares da lista é {np.sum(resultado)}') # traz a soma dos números pares"
      ],
      "execution_count": null,
      "outputs": [
        {
          "output_type": "stream",
          "name": "stdout",
          "text": [
            "O resultado da soma dos valores pares da lista é 2687196\n"
          ]
        }
      ]
    }
  ]
}